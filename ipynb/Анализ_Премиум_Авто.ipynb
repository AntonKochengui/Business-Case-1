{
 "cells": [
  {
   "cell_type": "markdown",
   "id": "fea78c9f",
   "metadata": {},
   "source": [
    "   # Анализ Авто диллера Премиум Авто."
   ]
  },
  {
   "cell_type": "markdown",
   "id": "44ffcc27",
   "metadata": {},
   "source": [
    "---"
   ]
  },
  {
   "cell_type": "code",
   "execution_count": 2,
   "id": "3f844a60",
   "metadata": {},
   "outputs": [],
   "source": [
    "import pandas as pd\n",
    "import matplotlib.pyplot as plt"
   ]
  },
  {
   "cell_type": "code",
   "execution_count": 3,
   "id": "2ccfb284",
   "metadata": {},
   "outputs": [],
   "source": [
    "df = pd.read_csv('Маркетинговые данные.csv',delimiter = ';',encoding='utf-8', low_memory=False, parse_dates=['Date'],dayfirst=True)\n"
   ]
  },
  {
   "cell_type": "markdown",
   "id": "13d2bba7",
   "metadata": {},
   "source": [
    "---"
   ]
  },
  {
   "cell_type": "code",
   "execution_count": 74,
   "id": "ca7ff5da",
   "metadata": {},
   "outputs": [
    {
     "data": {
      "text/html": [
       "<div>\n",
       "<style scoped>\n",
       "    .dataframe tbody tr th:only-of-type {\n",
       "        vertical-align: middle;\n",
       "    }\n",
       "\n",
       "    .dataframe tbody tr th {\n",
       "        vertical-align: top;\n",
       "    }\n",
       "\n",
       "    .dataframe thead th {\n",
       "        text-align: right;\n",
       "    }\n",
       "</style>\n",
       "<table border=\"1\" class=\"dataframe\">\n",
       "  <thead>\n",
       "    <tr style=\"text-align: right;\">\n",
       "      <th></th>\n",
       "      <th>Конверсия</th>\n",
       "    </tr>\n",
       "    <tr>\n",
       "      <th>Region</th>\n",
       "      <th></th>\n",
       "    </tr>\n",
       "  </thead>\n",
       "  <tbody>\n",
       "    <tr>\n",
       "      <th>Krasnodar Krai</th>\n",
       "      <td>23849</td>\n",
       "    </tr>\n",
       "    <tr>\n",
       "      <th>Stavropol Krai</th>\n",
       "      <td>1642</td>\n",
       "    </tr>\n",
       "    <tr>\n",
       "      <th>Rostov Oblast</th>\n",
       "      <td>1160</td>\n",
       "    </tr>\n",
       "    <tr>\n",
       "      <th>Moscow</th>\n",
       "      <td>1036</td>\n",
       "    </tr>\n",
       "    <tr>\n",
       "      <th>Crimea</th>\n",
       "      <td>667</td>\n",
       "    </tr>\n",
       "  </tbody>\n",
       "</table>\n",
       "</div>"
      ],
      "text/plain": [
       "                Конверсия\n",
       "Region                   \n",
       "Krasnodar Krai      23849\n",
       "Stavropol Krai       1642\n",
       "Rostov Oblast        1160\n",
       "Moscow               1036\n",
       "Crimea                667"
      ]
     },
     "execution_count": 74,
     "metadata": {},
     "output_type": "execute_result"
    }
   ],
   "source": [
    " df.pivot_table(index='Region', values='Конверсия', aggfunc='sum').sort_values(by='Конверсия',ascending=False).head(5)"
   ]
  },
  {
   "cell_type": "markdown",
   "id": "00838cad",
   "metadata": {},
   "source": [
    "### Краснодарский край, Ставропольский край и Ростовская область.\n",
    "#### Из этих регионов было больше всех заявок."
   ]
  },
  {
   "cell_type": "markdown",
   "id": "ce803725",
   "metadata": {},
   "source": [
    "---"
   ]
  },
  {
   "cell_type": "code",
   "execution_count": 75,
   "id": "9177656a",
   "metadata": {},
   "outputs": [
    {
     "data": {
      "text/plain": [
       "0.19"
      ]
     },
     "execution_count": 75,
     "metadata": {},
     "output_type": "execute_result"
    }
   ],
   "source": [
    " round(df['Bounce Rate'].mean()*100,2)"
   ]
  },
  {
   "cell_type": "markdown",
   "id": "2494a2ca",
   "metadata": {},
   "source": [
    "### Средний процент отказов составляет 0.19%"
   ]
  },
  {
   "cell_type": "markdown",
   "id": "7b9f3a8c",
   "metadata": {},
   "source": [
    "---"
   ]
  },
  {
   "cell_type": "code",
   "execution_count": 76,
   "id": "e8c51d00",
   "metadata": {},
   "outputs": [
    {
     "data": {
      "text/html": [
       "<div>\n",
       "<style scoped>\n",
       "    .dataframe tbody tr th:only-of-type {\n",
       "        vertical-align: middle;\n",
       "    }\n",
       "\n",
       "    .dataframe tbody tr th {\n",
       "        vertical-align: top;\n",
       "    }\n",
       "\n",
       "    .dataframe thead th {\n",
       "        text-align: right;\n",
       "    }\n",
       "</style>\n",
       "<table border=\"1\" class=\"dataframe\">\n",
       "  <thead>\n",
       "    <tr style=\"text-align: right;\">\n",
       "      <th></th>\n",
       "      <th>Конверсия</th>\n",
       "    </tr>\n",
       "    <tr>\n",
       "      <th>Source</th>\n",
       "      <th></th>\n",
       "    </tr>\n",
       "  </thead>\n",
       "  <tbody>\n",
       "    <tr>\n",
       "      <th>google</th>\n",
       "      <td>9106</td>\n",
       "    </tr>\n",
       "    <tr>\n",
       "      <th>yandex.ru</th>\n",
       "      <td>5668</td>\n",
       "    </tr>\n",
       "    <tr>\n",
       "      <th>yandex</th>\n",
       "      <td>5035</td>\n",
       "    </tr>\n",
       "    <tr>\n",
       "      <th>(direct)</th>\n",
       "      <td>4790</td>\n",
       "    </tr>\n",
       "    <tr>\n",
       "      <th>BMW-keyauto-krd.ru</th>\n",
       "      <td>4151</td>\n",
       "    </tr>\n",
       "  </tbody>\n",
       "</table>\n",
       "</div>"
      ],
      "text/plain": [
       "                    Конверсия\n",
       "Source                       \n",
       "google                   9106\n",
       "yandex.ru                5668\n",
       "yandex                   5035\n",
       "(direct)                 4790\n",
       "BMW-keyauto-krd.ru       4151"
      ]
     },
     "execution_count": 76,
     "metadata": {},
     "output_type": "execute_result"
    }
   ],
   "source": [
    "df.pivot_table(index='Source', values = 'Конверсия', aggfunc='sum').sort_values(by='Конверсия',ascending=False).head(5)"
   ]
  },
  {
   "cell_type": "markdown",
   "id": "c9e15e39",
   "metadata": {},
   "source": [
    "### Google и Yandex.\n",
    "#### Наибольнее выгодные для компании по текущим данным."
   ]
  },
  {
   "cell_type": "markdown",
   "id": "2a53d380",
   "metadata": {},
   "source": [
    "---"
   ]
  },
  {
   "cell_type": "code",
   "execution_count": 77,
   "id": "3bb5a59e",
   "metadata": {},
   "outputs": [
    {
     "data": {
      "image/png": "[encoded data removed]",
      "text/plain": [
       "<Figure size 640x480 with 1 Axes>"
      ]
     },
     "metadata": {},
     "output_type": "display_data"
    }
   ],
   "source": [
    "devices = df.groupby('Device Category').sum(numeric_only=True)['Sessions']\n",
    "devices.plot.pie(y=devices, autopct='%1.1f%%',wedgeprops=dict(width=0.5),colors=plt.cm.Dark2.colors);"
   ]
  },
  {
   "cell_type": "markdown",
   "id": "aa87074f",
   "metadata": {},
   "source": [
    "### Mobile(мобильные телефоны).\n",
    "#### С этих устройств больше всего заходят на сайты."
   ]
  },
  {
   "cell_type": "markdown",
   "id": "08bc61a3",
   "metadata": {},
   "source": [
    "---"
   ]
  },
  {
   "cell_type": "code",
   "execution_count": 4,
   "id": "97d04cc4",
   "metadata": {},
   "outputs": [],
   "source": [
    "df1 = pd.read_csv('Выручка.csv',delimiter = ';',encoding='utf-8', low_memory=False, parse_dates=['Date'],dayfirst=True)                \n"
   ]
  },
  {
   "cell_type": "markdown",
   "id": "00d46ad0",
   "metadata": {},
   "source": [
    "---"
   ]
  },
  {
   "cell_type": "code",
   "execution_count": 79,
   "id": "ba222b85",
   "metadata": {},
   "outputs": [
    {
     "data": {
      "text/plain": [
       "2277.0"
      ]
     },
     "execution_count": 79,
     "metadata": {},
     "output_type": "execute_result"
    }
   ],
   "source": [
    "revenue = df1['выручка в рублях'].sum() \n",
    "cost_conversions = df1['Goal Value'].sum()\n",
    "round(((revenue - cost_conversions)/cost_conversions)*100,0)"
   ]
  },
  {
   "cell_type": "markdown",
   "id": "94d1839e",
   "metadata": {},
   "source": [
    "### ROMI составляет 2277%"
   ]
  },
  {
   "cell_type": "markdown",
   "id": "699f0cc9",
   "metadata": {},
   "source": [
    "---"
   ]
  },
  {
   "cell_type": "code",
   "execution_count": 80,
   "id": "ef2351ad",
   "metadata": {},
   "outputs": [
    {
     "data": {
      "text/plain": [
       "849335817"
      ]
     },
     "execution_count": 80,
     "metadata": {},
     "output_type": "execute_result"
    }
   ],
   "source": [
    "df1.loc[df1['модель'].isin(['gls','GT_AMG']), 'выручка в рублях'].sum()"
   ]
  },
  {
   "cell_type": "markdown",
   "id": "f5e790c2",
   "metadata": {},
   "source": [
    "### Марка Mersedes , модели - gls, GT_AMG долларовые позиции.\n",
    "#### Выручка по этим позиция составляет 849 335 817 МЛН. РУБЛЕЙ"
   ]
  },
  {
   "cell_type": "markdown",
   "id": "1896bc9e",
   "metadata": {},
   "source": [
    "---"
   ]
  },
  {
   "cell_type": "markdown",
   "id": "fe3ee647",
   "metadata": {},
   "source": [
    "### Постоянные расходы(расходы на аренду помещений, оборудования, на заработную плату административно-управленческого персонала)\n",
    "### Коммерческие расходы(затраты по отгрузке и реализации продукции (товаров))\n",
    "### Административные расходы (зарплата директора, главбуха и других руководящих работников, аренда офисного помещения, услуги связи, охрана)\n",
    "### Оплата налогов, кредитов.\n",
    "#### Этих показателей не хватает, что бы посчитать чистую прибыль."
   ]
  }
 ],
 "metadata": {
  "kernelspec": {
   "display_name": "Python 3 (ipykernel)",
   "language": "python",
   "name": "python3"
  },
  "language_info": {
   "codemirror_mode": {
    "name": "ipython",
    "version": 3
   },
   "file_extension": ".py",
   "mimetype": "text/x-python",
   "name": "python",
   "nbconvert_exporter": "python",
   "pygments_lexer": "ipython3",
   "version": "3.11.3"
  }
 },
 "nbformat": 4,
 "nbformat_minor": 5
}
